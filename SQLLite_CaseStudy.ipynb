{
 "cells": [
  {
   "cell_type": "code",
   "execution_count": 1,
   "id": "49f51e09-f6b2-4468-9705-399411c124e2",
   "metadata": {},
   "outputs": [],
   "source": [
    "import sqlite3\n",
    "import pandas as pd\n",
    "from sqlite3 import Error"
   ]
  },
  {
   "cell_type": "code",
   "execution_count": 2,
   "id": "45960301-9002-4404-a624-12d34f37fa42",
   "metadata": {},
   "outputs": [],
   "source": [
    "def create_connection(db_file):\n",
    "    \"\"\" create a database connection to the SQLite database\n",
    "        specified by the db_file\n",
    "    :param db_file: database file\n",
    "    :return: Connection object or None\n",
    "    \"\"\"\n",
    "    conn = None\n",
    "    try:\n",
    "        conn = sqlite3.connect(db_file)\n",
    "        print(\"Got DB Connection\")\n",
    "    except Error as e:\n",
    "        print(e)\n",
    " \n",
    "    return conn"
   ]
  },
  {
   "cell_type": "code",
   "execution_count": 3,
   "id": "65477643-6733-490f-9bbf-d624c8341923",
   "metadata": {},
   "outputs": [],
   "source": [
    "def get_db_results(conn, query):\n",
    "    \"\"\" Return db results based on query\n",
    "    :param conn: the Connection object\n",
    "    :param query: Query to execute\n",
    "    :return: None\n",
    "    \"\"\"\n",
    "    df = pd.read_sql_query(query, conn)\n",
    "    print(df)"
   ]
  },
  {
   "cell_type": "code",
   "execution_count": 4,
   "id": "b21f7250-0989-43c9-ad99-db0652bf205c",
   "metadata": {},
   "outputs": [
    {
     "name": "stdout",
     "output_type": "stream",
     "text": [
      "Got DB Connection\n"
     ]
    }
   ],
   "source": [
    "database = \"sqlite_db_pythonsqlite.db\"\n",
    " \n",
    "# create a database connection\n",
    "conn = create_connection(database)"
   ]
  },
  {
   "cell_type": "code",
   "execution_count": 5,
   "id": "c2b4868b-efcc-4098-bf91-92f2533fa3cb",
   "metadata": {},
   "outputs": [
    {
     "name": "stdout",
     "output_type": "stream",
     "text": [
      "10. Produce a list of facilities with a total revenue less than 1000\n",
      "     facility_name  total_revenue\n",
      "0     Table Tennis           90.0\n",
      "1    Snooker Table          115.0\n",
      "2       Pool Table          265.0\n",
      "3  Badminton Court          604.5\n"
     ]
    }
   ],
   "source": [
    "# Q10: Produce a list of facilities with a total revenue less than 1000.\n",
    "\n",
    "query = \"\"\"\n",
    "    select bkgfac.name AS facility_name, SUM(bkgfac.faccost) total_revenue\n",
    "        from Members AS mem\n",
    "        INNER JOIN (\n",
    "        select bkg.memid, fac.facid, fac.name, \n",
    "            case when bkg.memid = 0 then fac.guestcost else fac.membercost end faccost\n",
    "        from Bookings as bkg\n",
    "        inner join Facilities as fac on fac.facid = bkg.facid\n",
    "        ) AS bkgfac ON bkgfac.memid = mem.memid\n",
    "        GROUP BY bkgfac.facid, bkgfac.name \n",
    "        HAVING total_revenue < 1000\n",
    "        ORDER BY total_revenue\n",
    "    \"\"\"\n",
    "\n",
    "with conn: \n",
    "    print(\"10. Produce a list of facilities with a total revenue less than 1000\")\n",
    "    get_db_results(conn, query)"
   ]
  },
  {
   "cell_type": "code",
   "execution_count": 6,
   "id": "a43fad3f-d4a9-451d-a607-ba2517051b1f",
   "metadata": {},
   "outputs": [
    {
     "name": "stdout",
     "output_type": "stream",
     "text": [
      "11. Produce a report of members and who recommended them in alphabetic surname,firstname order\n",
      "                member_name     recommended_by\n",
      "0            Florence Bader    Ponder Stibbons\n",
      "1                Anne Baker    Ponder Stibbons\n",
      "2             Timothy Baker     Jemima Farrell\n",
      "3                Tim Boothe         Tim Rownam\n",
      "4            Gerald Butters       Darren Smith\n",
      "5               Joan Coplin      Timothy Baker\n",
      "6             Erica Crumpet        Tracy Smith\n",
      "7                Nancy Dare    Janice Joplette\n",
      "8           Matthew Genting     Gerald Butters\n",
      "9                 John Hunt  Millicent Purview\n",
      "10              David Jones    Janice Joplette\n",
      "11            Douglas Jones        David Jones\n",
      "12          Janice Joplette       Darren Smith\n",
      "13           Anna Mackenzie       Darren Smith\n",
      "14             Charles Owen       Darren Smith\n",
      "15             David Pinker     Jemima Farrell\n",
      "16        Millicent Purview        Tracy Smith\n",
      "17         Henrietta Rumney    Matthew Genting\n",
      "18         Ramnaresh Sarwin     Florence Bader\n",
      "19               Jack Smith       Darren Smith\n",
      "20          Ponder Stibbons       Burton Tracy\n",
      "21  Henry Worthington-Smyth        Tracy Smith\n"
     ]
    }
   ],
   "source": [
    "# Q11: Produce a report of members and who recommended them in alphabetic surname,firstname order\n",
    "\n",
    "query = \"\"\"\n",
    "        select CONCAT(mem.firstname, ' ', mem.surname) member_name, CONCAT(rec.firstname, ' ', rec.surname) recommended_by \n",
    "        from Members mem\n",
    "        INNER JOIN Members rec ON rec.memid = mem.recommendedby\n",
    "        where mem.recommendedby is not null and mem.recommendedby != ''\n",
    "        order by mem.surname, mem.firstname    \n",
    "    \"\"\"\n",
    "\n",
    "with conn: \n",
    "    print(\"11. Produce a report of members and who recommended them in alphabetic surname,firstname order\")\n",
    "    get_db_results(conn, query)"
   ]
  },
  {
   "cell_type": "code",
   "execution_count": 7,
   "id": "def40e70-5368-468f-836f-b1a9f0e08d0b",
   "metadata": {},
   "outputs": [
    {
     "name": "stdout",
     "output_type": "stream",
     "text": [
      "12: Find the facilities with their usage by member, but not guests\n",
      "    facitlity_name  usage_count\n",
      "0       Pool Table          783\n",
      "1    Snooker Table          421\n",
      "2   Massage Room 1          421\n",
      "3     Table Tennis          385\n",
      "4  Badminton Court          344\n",
      "5   Tennis Court 1          308\n",
      "6   Tennis Court 2          276\n",
      "7     Squash Court          195\n",
      "8   Massage Room 2           27\n"
     ]
    }
   ],
   "source": [
    "# Q12: Find the facilities with their usage by member, but not guests\n",
    "\n",
    "query = \"\"\"\n",
    "        select fac.name as facitlity_name, count(*) as usage_count from Bookings bkg\n",
    "        inner join Facilities fac ON fac.facid = bkg.facid\n",
    "        where bkg.memid != 0\n",
    "        group by fac.name \n",
    "        order by usage_count desc   \n",
    "    \"\"\"\n",
    "\n",
    "with conn: \n",
    "    print(\"12: Find the facilities with their usage by member, but not guests\")\n",
    "    get_db_results(conn, query)"
   ]
  },
  {
   "cell_type": "code",
   "execution_count": 8,
   "id": "0f993123-21a6-434e-aaa3-313cd4ae4475",
   "metadata": {},
   "outputs": [
    {
     "name": "stdout",
     "output_type": "stream",
     "text": [
      "13: Find the facilities usage by month, but not guests\n",
      "     facitlity_name month  usage_count\n",
      "0   Badminton Court    07           51\n",
      "1   Badminton Court    08          132\n",
      "2   Badminton Court    09          161\n",
      "3    Massage Room 1    07           77\n",
      "4    Massage Room 1    08          153\n",
      "5    Massage Room 1    09          191\n",
      "6    Massage Room 2    07            4\n",
      "7    Massage Room 2    08            9\n",
      "8    Massage Room 2    09           14\n",
      "9        Pool Table    07          103\n",
      "10       Pool Table    08          272\n",
      "11       Pool Table    09          408\n",
      "12    Snooker Table    07           68\n",
      "13    Snooker Table    08          154\n",
      "14    Snooker Table    09          199\n",
      "15     Squash Court    07           23\n",
      "16     Squash Court    08           85\n",
      "17     Squash Court    09           87\n",
      "18     Table Tennis    07           48\n",
      "19     Table Tennis    08          143\n",
      "20     Table Tennis    09          194\n",
      "21   Tennis Court 1    07           65\n",
      "22   Tennis Court 1    08          111\n",
      "23   Tennis Court 1    09          132\n",
      "24   Tennis Court 2    07           41\n",
      "25   Tennis Court 2    08          109\n",
      "26   Tennis Court 2    09          126\n"
     ]
    }
   ],
   "source": [
    "# Q13: Find the facilities usage by month, but not guests\n",
    "\n",
    "query = \"\"\"\n",
    "        select fac.name as facitlity_name, strftime(\"%m\", bkg.starttime) month, count(*) usage_count from Bookings bkg\n",
    "        inner join Facilities fac ON fac.facid = bkg.facid\n",
    "        where bkg.memid != 0\n",
    "        group by fac.name,  strftime(\"%m\", bkg.starttime)\n",
    "        order by facitlity_name, bkg.starttime  \n",
    "    \"\"\"\n",
    "\n",
    "with conn: \n",
    "    print(\"13: Find the facilities usage by month, but not guests\")\n",
    "    get_db_results(conn, query)"
   ]
  },
  {
   "cell_type": "code",
   "execution_count": null,
   "id": "347f3c6c-1430-46b5-b08c-d996647f3d32",
   "metadata": {},
   "outputs": [],
   "source": []
  }
 ],
 "metadata": {
  "kernelspec": {
   "display_name": "Python [conda env:base] *",
   "language": "python",
   "name": "conda-base-py"
  },
  "language_info": {
   "codemirror_mode": {
    "name": "ipython",
    "version": 3
   },
   "file_extension": ".py",
   "mimetype": "text/x-python",
   "name": "python",
   "nbconvert_exporter": "python",
   "pygments_lexer": "ipython3",
   "version": "3.12.7"
  }
 },
 "nbformat": 4,
 "nbformat_minor": 5
}
